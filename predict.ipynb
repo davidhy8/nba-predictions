{
 "cells": [
  {
   "cell_type": "code",
   "execution_count": 1,
   "id": "initial_id",
   "metadata": {
    "collapsed": true,
    "ExecuteTime": {
     "end_time": "2024-02-01T01:02:11.511331Z",
     "start_time": "2024-02-01T01:02:09.327944Z"
    }
   },
   "outputs": [
    {
     "name": "stderr",
     "output_type": "stream",
     "text": [
      "/var/folders/gl/46sv6vrx4cddn6ydb7lq7qfc0000gn/T/ipykernel_13718/2035458946.py:1: DeprecationWarning: \n",
      "Pyarrow will become a required dependency of pandas in the next major release of pandas (pandas 3.0),\n",
      "(to allow more performant data types, such as the Arrow string type, and better interoperability with other libraries)\n",
      "but was not found to be installed on your system.\n",
      "If this would cause problems for you,\n",
      "please provide us feedback at https://github.com/pandas-dev/pandas/issues/54466\n",
      "        \n",
      "  import pandas as pd\n"
     ]
    }
   ],
   "source": [
    "import pandas as pd"
   ]
  },
  {
   "cell_type": "code",
   "execution_count": 2,
   "outputs": [],
   "source": [
    "df = pd.read_csv(\"data/nba_games.csv\", index_col=0)"
   ],
   "metadata": {
    "collapsed": false,
    "ExecuteTime": {
     "end_time": "2024-02-01T01:02:11.592802Z",
     "start_time": "2024-02-01T01:02:11.511722Z"
    }
   },
   "id": "73ae9b0147b601b4"
  },
  {
   "cell_type": "code",
   "execution_count": 3,
   "outputs": [],
   "source": [
    "df = df.sort_values(\"date\")"
   ],
   "metadata": {
    "collapsed": false,
    "ExecuteTime": {
     "end_time": "2024-02-01T01:02:11.601852Z",
     "start_time": "2024-02-01T01:02:11.593435Z"
    }
   },
   "id": "6c2bedd27121f6aa"
  },
  {
   "cell_type": "code",
   "execution_count": 4,
   "outputs": [],
   "source": [
    "df = df.reset_index(drop=True)"
   ],
   "metadata": {
    "collapsed": false,
    "ExecuteTime": {
     "end_time": "2024-02-01T01:02:11.605866Z",
     "start_time": "2024-02-01T01:02:11.602487Z"
    }
   },
   "id": "b7f7a4265ffdc56f"
  },
  {
   "cell_type": "code",
   "execution_count": 5,
   "outputs": [],
   "source": [
    "del df[\"mp.1\"]\n",
    "del df[\"mp_opp.1\"]\n",
    "del df[\"index_opp\"]"
   ],
   "metadata": {
    "collapsed": false,
    "ExecuteTime": {
     "end_time": "2024-02-01T01:02:11.611485Z",
     "start_time": "2024-02-01T01:02:11.609527Z"
    }
   },
   "id": "c6d527f15fabda22"
  },
  {
   "cell_type": "code",
   "execution_count": 6,
   "outputs": [],
   "source": [
    "def add_target(team):\n",
    "    team[\"target\"] = team[\"won\"].shift(-1)\n",
    "    return team"
   ],
   "metadata": {
    "collapsed": false,
    "ExecuteTime": {
     "end_time": "2024-02-01T01:02:11.621899Z",
     "start_time": "2024-02-01T01:02:11.612273Z"
    }
   },
   "id": "1f404f1a08600365"
  },
  {
   "cell_type": "code",
   "execution_count": 7,
   "outputs": [
    {
     "name": "stderr",
     "output_type": "stream",
     "text": [
      "/var/folders/gl/46sv6vrx4cddn6ydb7lq7qfc0000gn/T/ipykernel_13718/1914608454.py:2: PerformanceWarning: DataFrame is highly fragmented.  This is usually the result of calling `frame.insert` many times, which has poor performance.  Consider joining all columns at once using pd.concat(axis=1) instead. To get a de-fragmented frame, use `newframe = frame.copy()`\n",
      "  team[\"target\"] = team[\"won\"].shift(-1)\n",
      "/var/folders/gl/46sv6vrx4cddn6ydb7lq7qfc0000gn/T/ipykernel_13718/1914608454.py:2: PerformanceWarning: DataFrame is highly fragmented.  This is usually the result of calling `frame.insert` many times, which has poor performance.  Consider joining all columns at once using pd.concat(axis=1) instead. To get a de-fragmented frame, use `newframe = frame.copy()`\n",
      "  team[\"target\"] = team[\"won\"].shift(-1)\n",
      "/var/folders/gl/46sv6vrx4cddn6ydb7lq7qfc0000gn/T/ipykernel_13718/1914608454.py:2: PerformanceWarning: DataFrame is highly fragmented.  This is usually the result of calling `frame.insert` many times, which has poor performance.  Consider joining all columns at once using pd.concat(axis=1) instead. To get a de-fragmented frame, use `newframe = frame.copy()`\n",
      "  team[\"target\"] = team[\"won\"].shift(-1)\n",
      "/var/folders/gl/46sv6vrx4cddn6ydb7lq7qfc0000gn/T/ipykernel_13718/1914608454.py:2: PerformanceWarning: DataFrame is highly fragmented.  This is usually the result of calling `frame.insert` many times, which has poor performance.  Consider joining all columns at once using pd.concat(axis=1) instead. To get a de-fragmented frame, use `newframe = frame.copy()`\n",
      "  team[\"target\"] = team[\"won\"].shift(-1)\n",
      "/var/folders/gl/46sv6vrx4cddn6ydb7lq7qfc0000gn/T/ipykernel_13718/1914608454.py:2: PerformanceWarning: DataFrame is highly fragmented.  This is usually the result of calling `frame.insert` many times, which has poor performance.  Consider joining all columns at once using pd.concat(axis=1) instead. To get a de-fragmented frame, use `newframe = frame.copy()`\n",
      "  team[\"target\"] = team[\"won\"].shift(-1)\n",
      "/var/folders/gl/46sv6vrx4cddn6ydb7lq7qfc0000gn/T/ipykernel_13718/1914608454.py:2: PerformanceWarning: DataFrame is highly fragmented.  This is usually the result of calling `frame.insert` many times, which has poor performance.  Consider joining all columns at once using pd.concat(axis=1) instead. To get a de-fragmented frame, use `newframe = frame.copy()`\n",
      "  team[\"target\"] = team[\"won\"].shift(-1)\n",
      "/var/folders/gl/46sv6vrx4cddn6ydb7lq7qfc0000gn/T/ipykernel_13718/1914608454.py:2: PerformanceWarning: DataFrame is highly fragmented.  This is usually the result of calling `frame.insert` many times, which has poor performance.  Consider joining all columns at once using pd.concat(axis=1) instead. To get a de-fragmented frame, use `newframe = frame.copy()`\n",
      "  team[\"target\"] = team[\"won\"].shift(-1)\n",
      "/var/folders/gl/46sv6vrx4cddn6ydb7lq7qfc0000gn/T/ipykernel_13718/1914608454.py:2: PerformanceWarning: DataFrame is highly fragmented.  This is usually the result of calling `frame.insert` many times, which has poor performance.  Consider joining all columns at once using pd.concat(axis=1) instead. To get a de-fragmented frame, use `newframe = frame.copy()`\n",
      "  team[\"target\"] = team[\"won\"].shift(-1)\n",
      "/var/folders/gl/46sv6vrx4cddn6ydb7lq7qfc0000gn/T/ipykernel_13718/1914608454.py:2: PerformanceWarning: DataFrame is highly fragmented.  This is usually the result of calling `frame.insert` many times, which has poor performance.  Consider joining all columns at once using pd.concat(axis=1) instead. To get a de-fragmented frame, use `newframe = frame.copy()`\n",
      "  team[\"target\"] = team[\"won\"].shift(-1)\n",
      "/var/folders/gl/46sv6vrx4cddn6ydb7lq7qfc0000gn/T/ipykernel_13718/1914608454.py:2: PerformanceWarning: DataFrame is highly fragmented.  This is usually the result of calling `frame.insert` many times, which has poor performance.  Consider joining all columns at once using pd.concat(axis=1) instead. To get a de-fragmented frame, use `newframe = frame.copy()`\n",
      "  team[\"target\"] = team[\"won\"].shift(-1)\n",
      "/var/folders/gl/46sv6vrx4cddn6ydb7lq7qfc0000gn/T/ipykernel_13718/1914608454.py:2: PerformanceWarning: DataFrame is highly fragmented.  This is usually the result of calling `frame.insert` many times, which has poor performance.  Consider joining all columns at once using pd.concat(axis=1) instead. To get a de-fragmented frame, use `newframe = frame.copy()`\n",
      "  team[\"target\"] = team[\"won\"].shift(-1)\n",
      "/var/folders/gl/46sv6vrx4cddn6ydb7lq7qfc0000gn/T/ipykernel_13718/1914608454.py:2: PerformanceWarning: DataFrame is highly fragmented.  This is usually the result of calling `frame.insert` many times, which has poor performance.  Consider joining all columns at once using pd.concat(axis=1) instead. To get a de-fragmented frame, use `newframe = frame.copy()`\n",
      "  team[\"target\"] = team[\"won\"].shift(-1)\n",
      "/var/folders/gl/46sv6vrx4cddn6ydb7lq7qfc0000gn/T/ipykernel_13718/1914608454.py:2: PerformanceWarning: DataFrame is highly fragmented.  This is usually the result of calling `frame.insert` many times, which has poor performance.  Consider joining all columns at once using pd.concat(axis=1) instead. To get a de-fragmented frame, use `newframe = frame.copy()`\n",
      "  team[\"target\"] = team[\"won\"].shift(-1)\n",
      "/var/folders/gl/46sv6vrx4cddn6ydb7lq7qfc0000gn/T/ipykernel_13718/1914608454.py:2: PerformanceWarning: DataFrame is highly fragmented.  This is usually the result of calling `frame.insert` many times, which has poor performance.  Consider joining all columns at once using pd.concat(axis=1) instead. To get a de-fragmented frame, use `newframe = frame.copy()`\n",
      "  team[\"target\"] = team[\"won\"].shift(-1)\n",
      "/var/folders/gl/46sv6vrx4cddn6ydb7lq7qfc0000gn/T/ipykernel_13718/1914608454.py:2: PerformanceWarning: DataFrame is highly fragmented.  This is usually the result of calling `frame.insert` many times, which has poor performance.  Consider joining all columns at once using pd.concat(axis=1) instead. To get a de-fragmented frame, use `newframe = frame.copy()`\n",
      "  team[\"target\"] = team[\"won\"].shift(-1)\n",
      "/var/folders/gl/46sv6vrx4cddn6ydb7lq7qfc0000gn/T/ipykernel_13718/1914608454.py:2: PerformanceWarning: DataFrame is highly fragmented.  This is usually the result of calling `frame.insert` many times, which has poor performance.  Consider joining all columns at once using pd.concat(axis=1) instead. To get a de-fragmented frame, use `newframe = frame.copy()`\n",
      "  team[\"target\"] = team[\"won\"].shift(-1)\n",
      "/var/folders/gl/46sv6vrx4cddn6ydb7lq7qfc0000gn/T/ipykernel_13718/1914608454.py:2: PerformanceWarning: DataFrame is highly fragmented.  This is usually the result of calling `frame.insert` many times, which has poor performance.  Consider joining all columns at once using pd.concat(axis=1) instead. To get a de-fragmented frame, use `newframe = frame.copy()`\n",
      "  team[\"target\"] = team[\"won\"].shift(-1)\n",
      "/var/folders/gl/46sv6vrx4cddn6ydb7lq7qfc0000gn/T/ipykernel_13718/1914608454.py:2: PerformanceWarning: DataFrame is highly fragmented.  This is usually the result of calling `frame.insert` many times, which has poor performance.  Consider joining all columns at once using pd.concat(axis=1) instead. To get a de-fragmented frame, use `newframe = frame.copy()`\n",
      "  team[\"target\"] = team[\"won\"].shift(-1)\n",
      "/var/folders/gl/46sv6vrx4cddn6ydb7lq7qfc0000gn/T/ipykernel_13718/1914608454.py:2: PerformanceWarning: DataFrame is highly fragmented.  This is usually the result of calling `frame.insert` many times, which has poor performance.  Consider joining all columns at once using pd.concat(axis=1) instead. To get a de-fragmented frame, use `newframe = frame.copy()`\n",
      "  team[\"target\"] = team[\"won\"].shift(-1)\n",
      "/var/folders/gl/46sv6vrx4cddn6ydb7lq7qfc0000gn/T/ipykernel_13718/1914608454.py:2: PerformanceWarning: DataFrame is highly fragmented.  This is usually the result of calling `frame.insert` many times, which has poor performance.  Consider joining all columns at once using pd.concat(axis=1) instead. To get a de-fragmented frame, use `newframe = frame.copy()`\n",
      "  team[\"target\"] = team[\"won\"].shift(-1)\n",
      "/var/folders/gl/46sv6vrx4cddn6ydb7lq7qfc0000gn/T/ipykernel_13718/1914608454.py:2: PerformanceWarning: DataFrame is highly fragmented.  This is usually the result of calling `frame.insert` many times, which has poor performance.  Consider joining all columns at once using pd.concat(axis=1) instead. To get a de-fragmented frame, use `newframe = frame.copy()`\n",
      "  team[\"target\"] = team[\"won\"].shift(-1)\n",
      "/var/folders/gl/46sv6vrx4cddn6ydb7lq7qfc0000gn/T/ipykernel_13718/1914608454.py:2: PerformanceWarning: DataFrame is highly fragmented.  This is usually the result of calling `frame.insert` many times, which has poor performance.  Consider joining all columns at once using pd.concat(axis=1) instead. To get a de-fragmented frame, use `newframe = frame.copy()`\n",
      "  team[\"target\"] = team[\"won\"].shift(-1)\n",
      "/var/folders/gl/46sv6vrx4cddn6ydb7lq7qfc0000gn/T/ipykernel_13718/1914608454.py:2: PerformanceWarning: DataFrame is highly fragmented.  This is usually the result of calling `frame.insert` many times, which has poor performance.  Consider joining all columns at once using pd.concat(axis=1) instead. To get a de-fragmented frame, use `newframe = frame.copy()`\n",
      "  team[\"target\"] = team[\"won\"].shift(-1)\n",
      "/var/folders/gl/46sv6vrx4cddn6ydb7lq7qfc0000gn/T/ipykernel_13718/1914608454.py:2: PerformanceWarning: DataFrame is highly fragmented.  This is usually the result of calling `frame.insert` many times, which has poor performance.  Consider joining all columns at once using pd.concat(axis=1) instead. To get a de-fragmented frame, use `newframe = frame.copy()`\n",
      "  team[\"target\"] = team[\"won\"].shift(-1)\n",
      "/var/folders/gl/46sv6vrx4cddn6ydb7lq7qfc0000gn/T/ipykernel_13718/1914608454.py:2: PerformanceWarning: DataFrame is highly fragmented.  This is usually the result of calling `frame.insert` many times, which has poor performance.  Consider joining all columns at once using pd.concat(axis=1) instead. To get a de-fragmented frame, use `newframe = frame.copy()`\n",
      "  team[\"target\"] = team[\"won\"].shift(-1)\n",
      "/var/folders/gl/46sv6vrx4cddn6ydb7lq7qfc0000gn/T/ipykernel_13718/1914608454.py:2: PerformanceWarning: DataFrame is highly fragmented.  This is usually the result of calling `frame.insert` many times, which has poor performance.  Consider joining all columns at once using pd.concat(axis=1) instead. To get a de-fragmented frame, use `newframe = frame.copy()`\n",
      "  team[\"target\"] = team[\"won\"].shift(-1)\n",
      "/var/folders/gl/46sv6vrx4cddn6ydb7lq7qfc0000gn/T/ipykernel_13718/1914608454.py:2: PerformanceWarning: DataFrame is highly fragmented.  This is usually the result of calling `frame.insert` many times, which has poor performance.  Consider joining all columns at once using pd.concat(axis=1) instead. To get a de-fragmented frame, use `newframe = frame.copy()`\n",
      "  team[\"target\"] = team[\"won\"].shift(-1)\n",
      "/var/folders/gl/46sv6vrx4cddn6ydb7lq7qfc0000gn/T/ipykernel_13718/1914608454.py:2: PerformanceWarning: DataFrame is highly fragmented.  This is usually the result of calling `frame.insert` many times, which has poor performance.  Consider joining all columns at once using pd.concat(axis=1) instead. To get a de-fragmented frame, use `newframe = frame.copy()`\n",
      "  team[\"target\"] = team[\"won\"].shift(-1)\n",
      "/var/folders/gl/46sv6vrx4cddn6ydb7lq7qfc0000gn/T/ipykernel_13718/1914608454.py:2: PerformanceWarning: DataFrame is highly fragmented.  This is usually the result of calling `frame.insert` many times, which has poor performance.  Consider joining all columns at once using pd.concat(axis=1) instead. To get a de-fragmented frame, use `newframe = frame.copy()`\n",
      "  team[\"target\"] = team[\"won\"].shift(-1)\n",
      "/var/folders/gl/46sv6vrx4cddn6ydb7lq7qfc0000gn/T/ipykernel_13718/1914608454.py:2: PerformanceWarning: DataFrame is highly fragmented.  This is usually the result of calling `frame.insert` many times, which has poor performance.  Consider joining all columns at once using pd.concat(axis=1) instead. To get a de-fragmented frame, use `newframe = frame.copy()`\n",
      "  team[\"target\"] = team[\"won\"].shift(-1)\n",
      "/var/folders/gl/46sv6vrx4cddn6ydb7lq7qfc0000gn/T/ipykernel_13718/807702558.py:1: DeprecationWarning: DataFrameGroupBy.apply operated on the grouping columns. This behavior is deprecated, and in a future version of pandas the grouping columns will be excluded from the operation. Either pass `include_groups=False` to exclude the groupings or explicitly select the grouping columns after groupby to silence this warning.\n",
      "  df = df.groupby(\"team\", group_keys=False).apply(add_target)\n"
     ]
    }
   ],
   "source": [
    "df = df.groupby(\"team\", group_keys=False).apply(add_target)"
   ],
   "metadata": {
    "collapsed": false,
    "ExecuteTime": {
     "end_time": "2024-02-01T01:02:11.656411Z",
     "start_time": "2024-02-01T01:02:11.616407Z"
    }
   },
   "id": "12f31807e59fc5d"
  },
  {
   "cell_type": "code",
   "execution_count": 8,
   "outputs": [],
   "source": [
    "# df[df[\"team\"]==\"WAS\"]"
   ],
   "metadata": {
    "collapsed": false,
    "ExecuteTime": {
     "end_time": "2024-02-01T01:02:11.658246Z",
     "start_time": "2024-02-01T01:02:11.655131Z"
    }
   },
   "id": "74e32b580f396f21"
  },
  {
   "cell_type": "code",
   "execution_count": 9,
   "outputs": [
    {
     "name": "stderr",
     "output_type": "stream",
     "text": [
      "/var/folders/gl/46sv6vrx4cddn6ydb7lq7qfc0000gn/T/ipykernel_13718/997784747.py:1: FutureWarning: ChainedAssignmentError: behaviour will change in pandas 3.0!\n",
      "You are setting values through chained assignment. Currently this works in certain cases, but when using Copy-on-Write (which will become the default behaviour in pandas 3.0) this will never work to update the original DataFrame or Series, because the intermediate object on which we are setting values will behave as a copy.\n",
      "A typical example is when you are setting values in a column of a DataFrame, like:\n",
      "\n",
      "df[\"col\"][row_indexer] = value\n",
      "\n",
      "Use `df.loc[row_indexer, \"col\"] = values` instead, to perform the assignment in a single step and ensure this keeps updating the original `df`.\n",
      "\n",
      "See the caveats in the documentation: https://pandas.pydata.org/pandas-docs/stable/user_guide/indexing.html#returning-a-view-versus-a-copy\n",
      "\n",
      "  df[\"target\"][pd.isnull(df[\"target\"])] = 2\n",
      "/var/folders/gl/46sv6vrx4cddn6ydb7lq7qfc0000gn/T/ipykernel_13718/997784747.py:1: SettingWithCopyWarning: \n",
      "A value is trying to be set on a copy of a slice from a DataFrame\n",
      "\n",
      "See the caveats in the documentation: https://pandas.pydata.org/pandas-docs/stable/user_guide/indexing.html#returning-a-view-versus-a-copy\n",
      "  df[\"target\"][pd.isnull(df[\"target\"])] = 2\n"
     ]
    }
   ],
   "source": [
    "df[\"target\"][pd.isnull(df[\"target\"])] = 2"
   ],
   "metadata": {
    "collapsed": false,
    "ExecuteTime": {
     "end_time": "2024-02-01T01:02:11.663812Z",
     "start_time": "2024-02-01T01:02:11.658613Z"
    }
   },
   "id": "472a6de9ce61a5c"
  },
  {
   "cell_type": "code",
   "execution_count": 10,
   "outputs": [],
   "source": [
    "df[\"target\"] = df[\"target\"].astype(int, errors=\"ignore\")"
   ],
   "metadata": {
    "collapsed": false,
    "ExecuteTime": {
     "end_time": "2024-02-01T01:02:11.667701Z",
     "start_time": "2024-02-01T01:02:11.664112Z"
    }
   },
   "id": "694e73f50b094756"
  },
  {
   "cell_type": "code",
   "execution_count": 11,
   "outputs": [
    {
     "data": {
      "text/plain": "won\nFalse    4223\nTrue     4223\nName: count, dtype: int64"
     },
     "execution_count": 11,
     "metadata": {},
     "output_type": "execute_result"
    }
   ],
   "source": [
    "df[\"won\"].value_counts()"
   ],
   "metadata": {
    "collapsed": false,
    "ExecuteTime": {
     "end_time": "2024-02-01T01:02:11.673621Z",
     "start_time": "2024-02-01T01:02:11.670255Z"
    }
   },
   "id": "6df6db34dbe44ded"
  },
  {
   "cell_type": "code",
   "execution_count": 12,
   "outputs": [
    {
     "data": {
      "text/plain": "target\n1    4208\n0    4208\n2      30\nName: count, dtype: int64"
     },
     "execution_count": 12,
     "metadata": {},
     "output_type": "execute_result"
    }
   ],
   "source": [
    "df[\"target\"].value_counts()"
   ],
   "metadata": {
    "collapsed": false,
    "ExecuteTime": {
     "end_time": "2024-02-01T01:02:11.719274Z",
     "start_time": "2024-02-01T01:02:11.674640Z"
    }
   },
   "id": "d9ae51f68ccecdf0"
  },
  {
   "cell_type": "code",
   "execution_count": 13,
   "outputs": [],
   "source": [
    "nulls = pd.isnull(df)"
   ],
   "metadata": {
    "collapsed": false,
    "ExecuteTime": {
     "end_time": "2024-02-01T01:02:11.719991Z",
     "start_time": "2024-02-01T01:02:11.679951Z"
    }
   },
   "id": "1299676864e46b83"
  },
  {
   "cell_type": "code",
   "execution_count": 14,
   "outputs": [],
   "source": [
    "nulls = nulls.sum()"
   ],
   "metadata": {
    "collapsed": false,
    "ExecuteTime": {
     "end_time": "2024-02-01T01:02:11.720901Z",
     "start_time": "2024-02-01T01:02:11.690448Z"
    }
   },
   "id": "d00df0eba23b6e77"
  },
  {
   "cell_type": "code",
   "execution_count": 15,
   "outputs": [],
   "source": [
    "nulls = nulls[nulls>0]"
   ],
   "metadata": {
    "collapsed": false,
    "ExecuteTime": {
     "end_time": "2024-02-01T01:02:11.721113Z",
     "start_time": "2024-02-01T01:02:11.695760Z"
    }
   },
   "id": "46b7dd643195cfc5"
  },
  {
   "cell_type": "code",
   "execution_count": 16,
   "outputs": [],
   "source": [
    "valid_columns = df.columns[~df.columns.isin(nulls.index)]"
   ],
   "metadata": {
    "collapsed": false,
    "ExecuteTime": {
     "end_time": "2024-02-01T01:02:11.721227Z",
     "start_time": "2024-02-01T01:02:11.698774Z"
    }
   },
   "id": "f88696d94c47fecc"
  },
  {
   "cell_type": "code",
   "execution_count": 17,
   "outputs": [
    {
     "data": {
      "text/plain": "Index(['mp', 'fg', 'fga', 'fg%', '3p', '3pa', '3p%', 'ft', 'fta', 'ft%',\n       ...\n       'usg%_max_opp', 'ortg_max_opp', 'drtg_max_opp', 'team_opp', 'total_opp',\n       'home_opp', 'season', 'date', 'won', 'target'],\n      dtype='object', length=140)"
     },
     "execution_count": 17,
     "metadata": {},
     "output_type": "execute_result"
    }
   ],
   "source": [
    "valid_columns"
   ],
   "metadata": {
    "collapsed": false,
    "ExecuteTime": {
     "end_time": "2024-02-01T01:02:11.722126Z",
     "start_time": "2024-02-01T01:02:11.702488Z"
    }
   },
   "id": "f960758fa6fadc10"
  },
  {
   "cell_type": "code",
   "execution_count": 18,
   "outputs": [],
   "source": [
    "df = df[valid_columns].copy()"
   ],
   "metadata": {
    "collapsed": false,
    "ExecuteTime": {
     "end_time": "2024-02-01T01:02:11.723198Z",
     "start_time": "2024-02-01T01:02:11.706577Z"
    }
   },
   "id": "65a8d3f07377fdd0"
  },
  {
   "cell_type": "markdown",
   "source": [],
   "metadata": {
    "collapsed": false
   },
   "id": "53f64ede206a1f9e"
  },
  {
   "cell_type": "code",
   "execution_count": 19,
   "outputs": [],
   "source": [
    "from sklearn.model_selection import TimeSeriesSplit\n",
    "from sklearn.feature_selection import SequentialFeatureSelector\n",
    "from sklearn.linear_model import RidgeClassifier"
   ],
   "metadata": {
    "collapsed": false,
    "ExecuteTime": {
     "end_time": "2024-02-01T01:02:15.735805Z",
     "start_time": "2024-02-01T01:02:11.717188Z"
    }
   },
   "id": "ef0481f8aa61a907"
  },
  {
   "cell_type": "code",
   "execution_count": 20,
   "outputs": [],
   "source": [
    "rr = RidgeClassifier(alpha=1)\n",
    "split = TimeSeriesSplit(n_splits = 3)\n",
    "\n",
    "sfs = SequentialFeatureSelector(rr, n_features_to_select = 25, direction=\"forward\", cv=split)"
   ],
   "metadata": {
    "collapsed": false,
    "ExecuteTime": {
     "end_time": "2024-02-01T01:02:15.742370Z",
     "start_time": "2024-02-01T01:02:15.736276Z"
    }
   },
   "id": "3f44add35e4aec11"
  },
  {
   "cell_type": "code",
   "execution_count": 21,
   "outputs": [],
   "source": [
    "# Scale the columns so they fall between 0 and 1\n",
    "removed_columns = [\"season\", \"date\", \"won\", \"target\", \"team\", \"team_opp\"]"
   ],
   "metadata": {
    "collapsed": false,
    "ExecuteTime": {
     "end_time": "2024-02-01T01:02:15.742674Z",
     "start_time": "2024-02-01T01:02:15.738920Z"
    }
   },
   "id": "1e531727bb88b7fa"
  },
  {
   "cell_type": "code",
   "execution_count": 22,
   "outputs": [],
   "source": [
    "selected_columns = df.columns[~df.columns.isin(removed_columns)]"
   ],
   "metadata": {
    "collapsed": false,
    "ExecuteTime": {
     "end_time": "2024-02-01T01:02:15.750330Z",
     "start_time": "2024-02-01T01:02:15.743725Z"
    }
   },
   "id": "db142f6d291c9f2"
  },
  {
   "cell_type": "code",
   "execution_count": 23,
   "outputs": [],
   "source": [
    "from sklearn.preprocessing import MinMaxScaler"
   ],
   "metadata": {
    "collapsed": false,
    "ExecuteTime": {
     "end_time": "2024-02-01T01:02:15.750848Z",
     "start_time": "2024-02-01T01:02:15.746936Z"
    }
   },
   "id": "c7b1f2ed2c209dd3"
  },
  {
   "cell_type": "code",
   "execution_count": 24,
   "outputs": [],
   "source": [
    "scaler = MinMaxScaler()\n",
    "df[selected_columns] = scaler.fit_transform(df[selected_columns])"
   ],
   "metadata": {
    "collapsed": false,
    "ExecuteTime": {
     "end_time": "2024-02-01T01:02:15.778175Z",
     "start_time": "2024-02-01T01:02:15.751158Z"
    }
   },
   "id": "d536154e1b2013b7"
  },
  {
   "cell_type": "code",
   "execution_count": 25,
   "outputs": [
    {
     "data": {
      "text/plain": "SequentialFeatureSelector(cv=TimeSeriesSplit(gap=0, max_train_size=None, n_splits=3, test_size=None),\n                          estimator=RidgeClassifier(alpha=1),\n                          n_features_to_select=25)",
      "text/html": "<style>#sk-container-id-1 {\n  /* Definition of color scheme common for light and dark mode */\n  --sklearn-color-text: black;\n  --sklearn-color-line: gray;\n  /* Definition of color scheme for unfitted estimators */\n  --sklearn-color-unfitted-level-0: #fff5e6;\n  --sklearn-color-unfitted-level-1: #f6e4d2;\n  --sklearn-color-unfitted-level-2: #ffe0b3;\n  --sklearn-color-unfitted-level-3: chocolate;\n  /* Definition of color scheme for fitted estimators */\n  --sklearn-color-fitted-level-0: #f0f8ff;\n  --sklearn-color-fitted-level-1: #d4ebff;\n  --sklearn-color-fitted-level-2: #b3dbfd;\n  --sklearn-color-fitted-level-3: cornflowerblue;\n\n  /* Specific color for light theme */\n  --sklearn-color-text-on-default-background: var(--sg-text-color, var(--theme-code-foreground, var(--jp-content-font-color1, black)));\n  --sklearn-color-background: var(--sg-background-color, var(--theme-background, var(--jp-layout-color0, white)));\n  --sklearn-color-border-box: var(--sg-text-color, var(--theme-code-foreground, var(--jp-content-font-color1, black)));\n  --sklearn-color-icon: #696969;\n\n  @media (prefers-color-scheme: dark) {\n    /* Redefinition of color scheme for dark theme */\n    --sklearn-color-text-on-default-background: var(--sg-text-color, var(--theme-code-foreground, var(--jp-content-font-color1, white)));\n    --sklearn-color-background: var(--sg-background-color, var(--theme-background, var(--jp-layout-color0, #111)));\n    --sklearn-color-border-box: var(--sg-text-color, var(--theme-code-foreground, var(--jp-content-font-color1, white)));\n    --sklearn-color-icon: #878787;\n  }\n}\n\n#sk-container-id-1 {\n  color: var(--sklearn-color-text);\n}\n\n#sk-container-id-1 pre {\n  padding: 0;\n}\n\n#sk-container-id-1 input.sk-hidden--visually {\n  border: 0;\n  clip: rect(1px 1px 1px 1px);\n  clip: rect(1px, 1px, 1px, 1px);\n  height: 1px;\n  margin: -1px;\n  overflow: hidden;\n  padding: 0;\n  position: absolute;\n  width: 1px;\n}\n\n#sk-container-id-1 div.sk-dashed-wrapped {\n  border: 1px dashed var(--sklearn-color-line);\n  margin: 0 0.4em 0.5em 0.4em;\n  box-sizing: border-box;\n  padding-bottom: 0.4em;\n  background-color: var(--sklearn-color-background);\n}\n\n#sk-container-id-1 div.sk-container {\n  /* jupyter's `normalize.less` sets `[hidden] { display: none; }`\n     but bootstrap.min.css set `[hidden] { display: none !important; }`\n     so we also need the `!important` here to be able to override the\n     default hidden behavior on the sphinx rendered scikit-learn.org.\n     See: https://github.com/scikit-learn/scikit-learn/issues/21755 */\n  display: inline-block !important;\n  position: relative;\n}\n\n#sk-container-id-1 div.sk-text-repr-fallback {\n  display: none;\n}\n\ndiv.sk-parallel-item,\ndiv.sk-serial,\ndiv.sk-item {\n  /* draw centered vertical line to link estimators */\n  background-image: linear-gradient(var(--sklearn-color-text-on-default-background), var(--sklearn-color-text-on-default-background));\n  background-size: 2px 100%;\n  background-repeat: no-repeat;\n  background-position: center center;\n}\n\n/* Parallel-specific style estimator block */\n\n#sk-container-id-1 div.sk-parallel-item::after {\n  content: \"\";\n  width: 100%;\n  border-bottom: 2px solid var(--sklearn-color-text-on-default-background);\n  flex-grow: 1;\n}\n\n#sk-container-id-1 div.sk-parallel {\n  display: flex;\n  align-items: stretch;\n  justify-content: center;\n  background-color: var(--sklearn-color-background);\n  position: relative;\n}\n\n#sk-container-id-1 div.sk-parallel-item {\n  display: flex;\n  flex-direction: column;\n}\n\n#sk-container-id-1 div.sk-parallel-item:first-child::after {\n  align-self: flex-end;\n  width: 50%;\n}\n\n#sk-container-id-1 div.sk-parallel-item:last-child::after {\n  align-self: flex-start;\n  width: 50%;\n}\n\n#sk-container-id-1 div.sk-parallel-item:only-child::after {\n  width: 0;\n}\n\n/* Serial-specific style estimator block */\n\n#sk-container-id-1 div.sk-serial {\n  display: flex;\n  flex-direction: column;\n  align-items: center;\n  background-color: var(--sklearn-color-background);\n  padding-right: 1em;\n  padding-left: 1em;\n}\n\n\n/* Toggleable style: style used for estimator/Pipeline/ColumnTransformer box that is\nclickable and can be expanded/collapsed.\n- Pipeline and ColumnTransformer use this feature and define the default style\n- Estimators will overwrite some part of the style using the `sk-estimator` class\n*/\n\n/* Pipeline and ColumnTransformer style (default) */\n\n#sk-container-id-1 div.sk-toggleable {\n  /* Default theme specific background. It is overwritten whether we have a\n  specific estimator or a Pipeline/ColumnTransformer */\n  background-color: var(--sklearn-color-background);\n}\n\n/* Toggleable label */\n#sk-container-id-1 label.sk-toggleable__label {\n  cursor: pointer;\n  display: block;\n  width: 100%;\n  margin-bottom: 0;\n  padding: 0.5em;\n  box-sizing: border-box;\n  text-align: center;\n}\n\n#sk-container-id-1 label.sk-toggleable__label-arrow:before {\n  /* Arrow on the left of the label */\n  content: \"▸\";\n  float: left;\n  margin-right: 0.25em;\n  color: var(--sklearn-color-icon);\n}\n\n#sk-container-id-1 label.sk-toggleable__label-arrow:hover:before {\n  color: var(--sklearn-color-text);\n}\n\n/* Toggleable content - dropdown */\n\n#sk-container-id-1 div.sk-toggleable__content {\n  max-height: 0;\n  max-width: 0;\n  overflow: hidden;\n  text-align: left;\n  /* unfitted */\n  background-color: var(--sklearn-color-unfitted-level-0);\n}\n\n#sk-container-id-1 div.sk-toggleable__content.fitted {\n  /* fitted */\n  background-color: var(--sklearn-color-fitted-level-0);\n}\n\n#sk-container-id-1 div.sk-toggleable__content pre {\n  margin: 0.2em;\n  border-radius: 0.25em;\n  color: var(--sklearn-color-text);\n  /* unfitted */\n  background-color: var(--sklearn-color-unfitted-level-0);\n}\n\n#sk-container-id-1 div.sk-toggleable__content.fitted pre {\n  /* unfitted */\n  background-color: var(--sklearn-color-fitted-level-0);\n}\n\n#sk-container-id-1 input.sk-toggleable__control:checked~div.sk-toggleable__content {\n  /* Expand drop-down */\n  max-height: 200px;\n  max-width: 100%;\n  overflow: auto;\n}\n\n#sk-container-id-1 input.sk-toggleable__control:checked~label.sk-toggleable__label-arrow:before {\n  content: \"▾\";\n}\n\n/* Pipeline/ColumnTransformer-specific style */\n\n#sk-container-id-1 div.sk-label input.sk-toggleable__control:checked~label.sk-toggleable__label {\n  color: var(--sklearn-color-text);\n  background-color: var(--sklearn-color-unfitted-level-2);\n}\n\n#sk-container-id-1 div.sk-label.fitted input.sk-toggleable__control:checked~label.sk-toggleable__label {\n  background-color: var(--sklearn-color-fitted-level-2);\n}\n\n/* Estimator-specific style */\n\n/* Colorize estimator box */\n#sk-container-id-1 div.sk-estimator input.sk-toggleable__control:checked~label.sk-toggleable__label {\n  /* unfitted */\n  background-color: var(--sklearn-color-unfitted-level-2);\n}\n\n#sk-container-id-1 div.sk-estimator.fitted input.sk-toggleable__control:checked~label.sk-toggleable__label {\n  /* fitted */\n  background-color: var(--sklearn-color-fitted-level-2);\n}\n\n#sk-container-id-1 div.sk-label label.sk-toggleable__label,\n#sk-container-id-1 div.sk-label label {\n  /* The background is the default theme color */\n  color: var(--sklearn-color-text-on-default-background);\n}\n\n/* On hover, darken the color of the background */\n#sk-container-id-1 div.sk-label:hover label.sk-toggleable__label {\n  color: var(--sklearn-color-text);\n  background-color: var(--sklearn-color-unfitted-level-2);\n}\n\n/* Label box, darken color on hover, fitted */\n#sk-container-id-1 div.sk-label.fitted:hover label.sk-toggleable__label.fitted {\n  color: var(--sklearn-color-text);\n  background-color: var(--sklearn-color-fitted-level-2);\n}\n\n/* Estimator label */\n\n#sk-container-id-1 div.sk-label label {\n  font-family: monospace;\n  font-weight: bold;\n  display: inline-block;\n  line-height: 1.2em;\n}\n\n#sk-container-id-1 div.sk-label-container {\n  text-align: center;\n}\n\n/* Estimator-specific */\n#sk-container-id-1 div.sk-estimator {\n  font-family: monospace;\n  border: 1px dotted var(--sklearn-color-border-box);\n  border-radius: 0.25em;\n  box-sizing: border-box;\n  margin-bottom: 0.5em;\n  /* unfitted */\n  background-color: var(--sklearn-color-unfitted-level-0);\n}\n\n#sk-container-id-1 div.sk-estimator.fitted {\n  /* fitted */\n  background-color: var(--sklearn-color-fitted-level-0);\n}\n\n/* on hover */\n#sk-container-id-1 div.sk-estimator:hover {\n  /* unfitted */\n  background-color: var(--sklearn-color-unfitted-level-2);\n}\n\n#sk-container-id-1 div.sk-estimator.fitted:hover {\n  /* fitted */\n  background-color: var(--sklearn-color-fitted-level-2);\n}\n\n/* Specification for estimator info (e.g. \"i\" and \"?\") */\n\n/* Common style for \"i\" and \"?\" */\n\n.sk-estimator-doc-link,\na:link.sk-estimator-doc-link,\na:visited.sk-estimator-doc-link {\n  float: right;\n  font-size: smaller;\n  line-height: 1em;\n  font-family: monospace;\n  background-color: var(--sklearn-color-background);\n  border-radius: 1em;\n  height: 1em;\n  width: 1em;\n  text-decoration: none !important;\n  margin-left: 1ex;\n  /* unfitted */\n  border: var(--sklearn-color-unfitted-level-1) 1pt solid;\n  color: var(--sklearn-color-unfitted-level-1);\n}\n\n.sk-estimator-doc-link.fitted,\na:link.sk-estimator-doc-link.fitted,\na:visited.sk-estimator-doc-link.fitted {\n  /* fitted */\n  border: var(--sklearn-color-fitted-level-1) 1pt solid;\n  color: var(--sklearn-color-fitted-level-1);\n}\n\n/* On hover */\ndiv.sk-estimator:hover .sk-estimator-doc-link:hover,\n.sk-estimator-doc-link:hover,\ndiv.sk-label-container:hover .sk-estimator-doc-link:hover,\n.sk-estimator-doc-link:hover {\n  /* unfitted */\n  background-color: var(--sklearn-color-unfitted-level-3);\n  color: var(--sklearn-color-background);\n  text-decoration: none;\n}\n\ndiv.sk-estimator.fitted:hover .sk-estimator-doc-link.fitted:hover,\n.sk-estimator-doc-link.fitted:hover,\ndiv.sk-label-container:hover .sk-estimator-doc-link.fitted:hover,\n.sk-estimator-doc-link.fitted:hover {\n  /* fitted */\n  background-color: var(--sklearn-color-fitted-level-3);\n  color: var(--sklearn-color-background);\n  text-decoration: none;\n}\n\n/* Span, style for the box shown on hovering the info icon */\n.sk-estimator-doc-link span {\n  display: none;\n  z-index: 9999;\n  position: relative;\n  font-weight: normal;\n  right: .2ex;\n  padding: .5ex;\n  margin: .5ex;\n  width: min-content;\n  min-width: 20ex;\n  max-width: 50ex;\n  color: var(--sklearn-color-text);\n  box-shadow: 2pt 2pt 4pt #999;\n  /* unfitted */\n  background: var(--sklearn-color-unfitted-level-0);\n  border: .5pt solid var(--sklearn-color-unfitted-level-3);\n}\n\n.sk-estimator-doc-link.fitted span {\n  /* fitted */\n  background: var(--sklearn-color-fitted-level-0);\n  border: var(--sklearn-color-fitted-level-3);\n}\n\n.sk-estimator-doc-link:hover span {\n  display: block;\n}\n\n/* \"?\"-specific style due to the `<a>` HTML tag */\n\n#sk-container-id-1 a.estimator_doc_link {\n  float: right;\n  font-size: 1rem;\n  line-height: 1em;\n  font-family: monospace;\n  background-color: var(--sklearn-color-background);\n  border-radius: 1rem;\n  height: 1rem;\n  width: 1rem;\n  text-decoration: none;\n  /* unfitted */\n  color: var(--sklearn-color-unfitted-level-1);\n  border: var(--sklearn-color-unfitted-level-1) 1pt solid;\n}\n\n#sk-container-id-1 a.estimator_doc_link.fitted {\n  /* fitted */\n  border: var(--sklearn-color-fitted-level-1) 1pt solid;\n  color: var(--sklearn-color-fitted-level-1);\n}\n\n/* On hover */\n#sk-container-id-1 a.estimator_doc_link:hover {\n  /* unfitted */\n  background-color: var(--sklearn-color-unfitted-level-3);\n  color: var(--sklearn-color-background);\n  text-decoration: none;\n}\n\n#sk-container-id-1 a.estimator_doc_link.fitted:hover {\n  /* fitted */\n  background-color: var(--sklearn-color-fitted-level-3);\n}\n</style><div id=\"sk-container-id-1\" class=\"sk-top-container\"><div class=\"sk-text-repr-fallback\"><pre>SequentialFeatureSelector(cv=TimeSeriesSplit(gap=0, max_train_size=None, n_splits=3, test_size=None),\n                          estimator=RidgeClassifier(alpha=1),\n                          n_features_to_select=25)</pre><b>In a Jupyter environment, please rerun this cell to show the HTML representation or trust the notebook. <br />On GitHub, the HTML representation is unable to render, please try loading this page with nbviewer.org.</b></div><div class=\"sk-container\" hidden><div class=\"sk-item sk-dashed-wrapped\"><div class=\"sk-label-container\"><div class=\"sk-label fitted sk-toggleable\"><input class=\"sk-toggleable__control sk-hidden--visually\" id=\"sk-estimator-id-1\" type=\"checkbox\" ><label for=\"sk-estimator-id-1\" class=\"sk-toggleable__label fitted sk-toggleable__label-arrow fitted\">&nbsp;&nbsp;SequentialFeatureSelector<a class=\"sk-estimator-doc-link fitted\" rel=\"noreferrer\" target=\"_blank\" href=\"https://scikit-learn.org/1.4/modules/generated/sklearn.feature_selection.SequentialFeatureSelector.html\">?<span>Documentation for SequentialFeatureSelector</span></a><span class=\"sk-estimator-doc-link fitted\">i<span>Fitted</span></span></label><div class=\"sk-toggleable__content fitted\"><pre>SequentialFeatureSelector(cv=TimeSeriesSplit(gap=0, max_train_size=None, n_splits=3, test_size=None),\n                          estimator=RidgeClassifier(alpha=1),\n                          n_features_to_select=25)</pre></div> </div></div><div class=\"sk-parallel\"><div class=\"sk-parallel-item\"><div class=\"sk-item\"><div class=\"sk-label-container\"><div class=\"sk-label fitted sk-toggleable\"><input class=\"sk-toggleable__control sk-hidden--visually\" id=\"sk-estimator-id-2\" type=\"checkbox\" ><label for=\"sk-estimator-id-2\" class=\"sk-toggleable__label fitted sk-toggleable__label-arrow fitted\">estimator: RidgeClassifier</label><div class=\"sk-toggleable__content fitted\"><pre>RidgeClassifier(alpha=1)</pre></div> </div></div><div class=\"sk-serial\"><div class=\"sk-item\"><div class=\"sk-estimator fitted sk-toggleable\"><input class=\"sk-toggleable__control sk-hidden--visually\" id=\"sk-estimator-id-3\" type=\"checkbox\" ><label for=\"sk-estimator-id-3\" class=\"sk-toggleable__label fitted sk-toggleable__label-arrow fitted\">&nbsp;RidgeClassifier<a class=\"sk-estimator-doc-link fitted\" rel=\"noreferrer\" target=\"_blank\" href=\"https://scikit-learn.org/1.4/modules/generated/sklearn.linear_model.RidgeClassifier.html\">?<span>Documentation for RidgeClassifier</span></a></label><div class=\"sk-toggleable__content fitted\"><pre>RidgeClassifier(alpha=1)</pre></div> </div></div></div></div></div></div></div></div></div>"
     },
     "execution_count": 25,
     "metadata": {},
     "output_type": "execute_result"
    }
   ],
   "source": [
    "sfs.fit(df[selected_columns], df[\"target\"])"
   ],
   "metadata": {
    "collapsed": false,
    "ExecuteTime": {
     "end_time": "2024-02-01T01:02:43.853044Z",
     "start_time": "2024-02-01T01:02:15.779398Z"
    }
   },
   "id": "ef7d49c38271c750"
  },
  {
   "cell_type": "code",
   "execution_count": 26,
   "outputs": [],
   "source": [
    "predictors = list(selected_columns[sfs.get_support()])"
   ],
   "metadata": {
    "collapsed": false,
    "ExecuteTime": {
     "end_time": "2024-02-01T01:02:43.921778Z",
     "start_time": "2024-02-01T01:02:43.869946Z"
    }
   },
   "id": "d5181623c66f1aaf"
  },
  {
   "cell_type": "code",
   "execution_count": 27,
   "outputs": [
    {
     "data": {
      "text/plain": "['fg%',\n '3p',\n 'drb',\n 'blk',\n 'pf',\n 'efg%',\n 'ftr',\n 'drb%',\n 'tov%',\n 'usg%',\n 'fg_max',\n 'fta_max',\n 'tov_max',\n 'orb_opp',\n 'stl_opp',\n 'pts_opp',\n '3par_opp',\n 'orb%_opp',\n 'usg%_opp',\n '3pa_max_opp',\n 'fta_max_opp',\n 'ft%_max_opp',\n 'orb%_max_opp',\n 'trb%_max_opp',\n 'total_opp']"
     },
     "execution_count": 27,
     "metadata": {},
     "output_type": "execute_result"
    }
   ],
   "source": [
    "predictors"
   ],
   "metadata": {
    "collapsed": false,
    "ExecuteTime": {
     "end_time": "2024-02-01T01:02:43.928784Z",
     "start_time": "2024-02-01T01:02:43.922744Z"
    }
   },
   "id": "9b65a38b93a43f66"
  },
  {
   "cell_type": "code",
   "execution_count": 28,
   "outputs": [],
   "source": [
    "def backtest(data, model, predictors, start=2, step=1):\n",
    "    all_predictions = []\n",
    "    seasons = sorted(data[\"season\"].unique())\n",
    "    \n",
    "    for i in range(start, len(seasons), step):\n",
    "        season = seasons[i]\n",
    "        \n",
    "        train = data[data[\"season\"] < season]\n",
    "        test = data[data[\"season\"] == season]\n",
    "        \n",
    "        model.fit(train[predictors], train[\"target\"])\n",
    "        \n",
    "        preds = model.predict(test[predictors])\n",
    "        preds = pd.Series(preds, index=test.index)\n",
    "        \n",
    "        combined = pd.concat([test[\"target\"], preds], axis=1)\n",
    "        combined.columns = [\"actual\", \"predictions\"]\n",
    "        \n",
    "        all_predictions.append(combined)\n",
    "    \n",
    "    return pd.concat(all_predictions)"
   ],
   "metadata": {
    "collapsed": false,
    "ExecuteTime": {
     "end_time": "2024-02-01T01:02:43.938516Z",
     "start_time": "2024-02-01T01:02:43.933275Z"
    }
   },
   "id": "c671483a2458336a"
  },
  {
   "cell_type": "code",
   "execution_count": 29,
   "outputs": [],
   "source": [
    "predictions = backtest(df, rr, predictors)"
   ],
   "metadata": {
    "collapsed": false,
    "ExecuteTime": {
     "end_time": "2024-02-01T01:02:44.011135Z",
     "start_time": "2024-02-01T01:02:43.937480Z"
    }
   },
   "id": "65e7bf8fbdc38f2b"
  },
  {
   "cell_type": "code",
   "execution_count": 30,
   "outputs": [],
   "source": [
    "from sklearn.metrics import accuracy_score"
   ],
   "metadata": {
    "collapsed": false,
    "ExecuteTime": {
     "end_time": "2024-02-01T01:02:44.018533Z",
     "start_time": "2024-02-01T01:02:44.011651Z"
    }
   },
   "id": "9f04efc83d6acf18"
  },
  {
   "cell_type": "code",
   "execution_count": 31,
   "outputs": [
    {
     "data": {
      "text/plain": "0.5484913793103449"
     },
     "execution_count": 31,
     "metadata": {},
     "output_type": "execute_result"
    }
   ],
   "source": [
    "predictions = predictions[predictions[\"actual\"] != 2]\n",
    "accuracy_score(predictions[\"actual\"], predictions[\"predictions\"])"
   ],
   "metadata": {
    "collapsed": false,
    "ExecuteTime": {
     "end_time": "2024-02-01T01:02:44.029310Z",
     "start_time": "2024-02-01T01:02:44.019281Z"
    }
   },
   "id": "caed91fb087833dc"
  },
  {
   "cell_type": "code",
   "execution_count": 32,
   "outputs": [
    {
     "name": "stderr",
     "output_type": "stream",
     "text": [
      "/var/folders/gl/46sv6vrx4cddn6ydb7lq7qfc0000gn/T/ipykernel_13718/1818935125.py:1: DeprecationWarning: DataFrameGroupBy.apply operated on the grouping columns. This behavior is deprecated, and in a future version of pandas the grouping columns will be excluded from the operation. Either pass `include_groups=False` to exclude the groupings or explicitly select the grouping columns after groupby to silence this warning.\n",
      "  df.groupby(\"home\").apply(lambda x: x[x[\"won\"] == 1].shape[0] / x.shape[0])\n"
     ]
    },
    {
     "data": {
      "text/plain": "home\n0.0    0.438077\n1.0    0.561923\ndtype: float64"
     },
     "execution_count": 32,
     "metadata": {},
     "output_type": "execute_result"
    }
   ],
   "source": [
    "df.groupby(\"home\").apply(lambda x: x[x[\"won\"] == 1].shape[0] / x.shape[0])"
   ],
   "metadata": {
    "collapsed": false,
    "ExecuteTime": {
     "end_time": "2024-02-01T01:02:44.079007Z",
     "start_time": "2024-02-01T01:02:44.029488Z"
    }
   },
   "id": "ce91b51a96900499"
  },
  {
   "cell_type": "code",
   "execution_count": 33,
   "outputs": [],
   "source": [
    "df_rolling = df[list(selected_columns) + [\"won\", \"team\", \"season\"]]"
   ],
   "metadata": {
    "collapsed": false,
    "ExecuteTime": {
     "end_time": "2024-02-01T01:02:44.079859Z",
     "start_time": "2024-02-01T01:02:44.064157Z"
    }
   },
   "id": "e683ce2b1cac653d"
  },
  {
   "cell_type": "code",
   "execution_count": 34,
   "outputs": [
    {
     "data": {
      "text/plain": "            mp        fg       fga       fg%        3p       3pa       3p%  \\\n0     0.000000  0.357143  0.298246  0.468293  0.259259  0.358491  0.410211   \n1     0.000000  0.500000  0.508772  0.478049  0.444444  0.566038  0.480634   \n2     0.000000  0.452381  0.491228  0.439024  0.481481  0.471698  0.619718   \n3     0.000000  0.333333  0.614035  0.236585  0.296296  0.433962  0.397887   \n4     0.000000  0.452381  0.333333  0.558537  0.185185  0.188679  0.480634   \n...        ...       ...       ...       ...       ...       ...       ...   \n8441  0.000000  0.357143  0.491228  0.331707  0.333333  0.452830  0.434859   \n8442  0.000000  0.571429  0.368421  0.673171  0.370370  0.415094  0.524648   \n8443  0.000000  0.476190  0.368421  0.558537  0.518519  0.622642  0.519366   \n8444  0.333333  0.595238  0.719298  0.439024  0.407407  0.622642  0.396127   \n8445  0.000000  0.214286  0.298246  0.287805  0.222222  0.264151  0.450704   \n\n            ft   fta       ft%  ...  blk%_max_opp  tov%_max_opp  usg%_max_opp  \\\n0     0.523810  0.58  0.677143  ...         0.045      0.170860      0.233333   \n1     0.285714  0.34  0.624286  ...         0.039      1.000000      0.178205   \n2     0.571429  0.60  0.732857  ...         0.127      0.475891      0.129487   \n3     0.309524  0.42  0.502857  ...         0.074      0.408805      0.235897   \n4     0.333333  0.34  0.774286  ...         0.043      0.344864      0.084615   \n...        ...   ...       ...  ...           ...           ...           ...   \n8441  0.261905  0.42  0.378571  ...         0.307      0.475891      0.150000   \n8442  0.785714  0.94  0.591429  ...         0.028      0.213836      0.134615   \n8443  0.285714  0.28  0.821429  ...         0.103      0.213836      0.069231   \n8444  0.357143  0.40  0.675714  ...         0.093      0.101677      0.100000   \n8445  0.666667  0.66  0.795714  ...         0.130      0.371069      0.089744   \n\n      ortg_max_opp  drtg_max_opp  total_opp  home_opp    won  team  season  \n0         0.262626      0.376623   0.417476       0.0  False   LAL    2021  \n1         0.323232      0.428571   0.349515       1.0   True   LAC    2021  \n2         0.833333      0.454545   0.252427       0.0   True   BRK    2021  \n3         1.000000      0.168831   0.504854       1.0  False   GSW    2021  \n4         0.227273      0.311688   0.388350       1.0  False   MIA    2021  \n...            ...           ...        ...       ...    ...   ...     ...  \n8441      0.641414      0.311688   0.514563       1.0  False   TOR    2024  \n8442      0.782828      0.688312   0.601942       1.0   True   MIL    2024  \n8443      0.348485      0.493506   0.213592       1.0   True   CLE    2024  \n8444      0.590909      0.480519   0.524272       1.0  False   UTA    2024  \n8445      0.297980      0.389610   0.233010       1.0   True   OKC    2024  \n\n[8446 rows x 137 columns]",
      "text/html": "<div>\n<style scoped>\n    .dataframe tbody tr th:only-of-type {\n        vertical-align: middle;\n    }\n\n    .dataframe tbody tr th {\n        vertical-align: top;\n    }\n\n    .dataframe thead th {\n        text-align: right;\n    }\n</style>\n<table border=\"1\" class=\"dataframe\">\n  <thead>\n    <tr style=\"text-align: right;\">\n      <th></th>\n      <th>mp</th>\n      <th>fg</th>\n      <th>fga</th>\n      <th>fg%</th>\n      <th>3p</th>\n      <th>3pa</th>\n      <th>3p%</th>\n      <th>ft</th>\n      <th>fta</th>\n      <th>ft%</th>\n      <th>...</th>\n      <th>blk%_max_opp</th>\n      <th>tov%_max_opp</th>\n      <th>usg%_max_opp</th>\n      <th>ortg_max_opp</th>\n      <th>drtg_max_opp</th>\n      <th>total_opp</th>\n      <th>home_opp</th>\n      <th>won</th>\n      <th>team</th>\n      <th>season</th>\n    </tr>\n  </thead>\n  <tbody>\n    <tr>\n      <th>0</th>\n      <td>0.000000</td>\n      <td>0.357143</td>\n      <td>0.298246</td>\n      <td>0.468293</td>\n      <td>0.259259</td>\n      <td>0.358491</td>\n      <td>0.410211</td>\n      <td>0.523810</td>\n      <td>0.58</td>\n      <td>0.677143</td>\n      <td>...</td>\n      <td>0.045</td>\n      <td>0.170860</td>\n      <td>0.233333</td>\n      <td>0.262626</td>\n      <td>0.376623</td>\n      <td>0.417476</td>\n      <td>0.0</td>\n      <td>False</td>\n      <td>LAL</td>\n      <td>2021</td>\n    </tr>\n    <tr>\n      <th>1</th>\n      <td>0.000000</td>\n      <td>0.500000</td>\n      <td>0.508772</td>\n      <td>0.478049</td>\n      <td>0.444444</td>\n      <td>0.566038</td>\n      <td>0.480634</td>\n      <td>0.285714</td>\n      <td>0.34</td>\n      <td>0.624286</td>\n      <td>...</td>\n      <td>0.039</td>\n      <td>1.000000</td>\n      <td>0.178205</td>\n      <td>0.323232</td>\n      <td>0.428571</td>\n      <td>0.349515</td>\n      <td>1.0</td>\n      <td>True</td>\n      <td>LAC</td>\n      <td>2021</td>\n    </tr>\n    <tr>\n      <th>2</th>\n      <td>0.000000</td>\n      <td>0.452381</td>\n      <td>0.491228</td>\n      <td>0.439024</td>\n      <td>0.481481</td>\n      <td>0.471698</td>\n      <td>0.619718</td>\n      <td>0.571429</td>\n      <td>0.60</td>\n      <td>0.732857</td>\n      <td>...</td>\n      <td>0.127</td>\n      <td>0.475891</td>\n      <td>0.129487</td>\n      <td>0.833333</td>\n      <td>0.454545</td>\n      <td>0.252427</td>\n      <td>0.0</td>\n      <td>True</td>\n      <td>BRK</td>\n      <td>2021</td>\n    </tr>\n    <tr>\n      <th>3</th>\n      <td>0.000000</td>\n      <td>0.333333</td>\n      <td>0.614035</td>\n      <td>0.236585</td>\n      <td>0.296296</td>\n      <td>0.433962</td>\n      <td>0.397887</td>\n      <td>0.309524</td>\n      <td>0.42</td>\n      <td>0.502857</td>\n      <td>...</td>\n      <td>0.074</td>\n      <td>0.408805</td>\n      <td>0.235897</td>\n      <td>1.000000</td>\n      <td>0.168831</td>\n      <td>0.504854</td>\n      <td>1.0</td>\n      <td>False</td>\n      <td>GSW</td>\n      <td>2021</td>\n    </tr>\n    <tr>\n      <th>4</th>\n      <td>0.000000</td>\n      <td>0.452381</td>\n      <td>0.333333</td>\n      <td>0.558537</td>\n      <td>0.185185</td>\n      <td>0.188679</td>\n      <td>0.480634</td>\n      <td>0.333333</td>\n      <td>0.34</td>\n      <td>0.774286</td>\n      <td>...</td>\n      <td>0.043</td>\n      <td>0.344864</td>\n      <td>0.084615</td>\n      <td>0.227273</td>\n      <td>0.311688</td>\n      <td>0.388350</td>\n      <td>1.0</td>\n      <td>False</td>\n      <td>MIA</td>\n      <td>2021</td>\n    </tr>\n    <tr>\n      <th>...</th>\n      <td>...</td>\n      <td>...</td>\n      <td>...</td>\n      <td>...</td>\n      <td>...</td>\n      <td>...</td>\n      <td>...</td>\n      <td>...</td>\n      <td>...</td>\n      <td>...</td>\n      <td>...</td>\n      <td>...</td>\n      <td>...</td>\n      <td>...</td>\n      <td>...</td>\n      <td>...</td>\n      <td>...</td>\n      <td>...</td>\n      <td>...</td>\n      <td>...</td>\n      <td>...</td>\n    </tr>\n    <tr>\n      <th>8441</th>\n      <td>0.000000</td>\n      <td>0.357143</td>\n      <td>0.491228</td>\n      <td>0.331707</td>\n      <td>0.333333</td>\n      <td>0.452830</td>\n      <td>0.434859</td>\n      <td>0.261905</td>\n      <td>0.42</td>\n      <td>0.378571</td>\n      <td>...</td>\n      <td>0.307</td>\n      <td>0.475891</td>\n      <td>0.150000</td>\n      <td>0.641414</td>\n      <td>0.311688</td>\n      <td>0.514563</td>\n      <td>1.0</td>\n      <td>False</td>\n      <td>TOR</td>\n      <td>2024</td>\n    </tr>\n    <tr>\n      <th>8442</th>\n      <td>0.000000</td>\n      <td>0.571429</td>\n      <td>0.368421</td>\n      <td>0.673171</td>\n      <td>0.370370</td>\n      <td>0.415094</td>\n      <td>0.524648</td>\n      <td>0.785714</td>\n      <td>0.94</td>\n      <td>0.591429</td>\n      <td>...</td>\n      <td>0.028</td>\n      <td>0.213836</td>\n      <td>0.134615</td>\n      <td>0.782828</td>\n      <td>0.688312</td>\n      <td>0.601942</td>\n      <td>1.0</td>\n      <td>True</td>\n      <td>MIL</td>\n      <td>2024</td>\n    </tr>\n    <tr>\n      <th>8443</th>\n      <td>0.000000</td>\n      <td>0.476190</td>\n      <td>0.368421</td>\n      <td>0.558537</td>\n      <td>0.518519</td>\n      <td>0.622642</td>\n      <td>0.519366</td>\n      <td>0.285714</td>\n      <td>0.28</td>\n      <td>0.821429</td>\n      <td>...</td>\n      <td>0.103</td>\n      <td>0.213836</td>\n      <td>0.069231</td>\n      <td>0.348485</td>\n      <td>0.493506</td>\n      <td>0.213592</td>\n      <td>1.0</td>\n      <td>True</td>\n      <td>CLE</td>\n      <td>2024</td>\n    </tr>\n    <tr>\n      <th>8444</th>\n      <td>0.333333</td>\n      <td>0.595238</td>\n      <td>0.719298</td>\n      <td>0.439024</td>\n      <td>0.407407</td>\n      <td>0.622642</td>\n      <td>0.396127</td>\n      <td>0.357143</td>\n      <td>0.40</td>\n      <td>0.675714</td>\n      <td>...</td>\n      <td>0.093</td>\n      <td>0.101677</td>\n      <td>0.100000</td>\n      <td>0.590909</td>\n      <td>0.480519</td>\n      <td>0.524272</td>\n      <td>1.0</td>\n      <td>False</td>\n      <td>UTA</td>\n      <td>2024</td>\n    </tr>\n    <tr>\n      <th>8445</th>\n      <td>0.000000</td>\n      <td>0.214286</td>\n      <td>0.298246</td>\n      <td>0.287805</td>\n      <td>0.222222</td>\n      <td>0.264151</td>\n      <td>0.450704</td>\n      <td>0.666667</td>\n      <td>0.66</td>\n      <td>0.795714</td>\n      <td>...</td>\n      <td>0.130</td>\n      <td>0.371069</td>\n      <td>0.089744</td>\n      <td>0.297980</td>\n      <td>0.389610</td>\n      <td>0.233010</td>\n      <td>1.0</td>\n      <td>True</td>\n      <td>OKC</td>\n      <td>2024</td>\n    </tr>\n  </tbody>\n</table>\n<p>8446 rows × 137 columns</p>\n</div>"
     },
     "execution_count": 34,
     "metadata": {},
     "output_type": "execute_result"
    }
   ],
   "source": [
    "df_rolling"
   ],
   "metadata": {
    "collapsed": false,
    "ExecuteTime": {
     "end_time": "2024-02-01T01:02:44.129709Z",
     "start_time": "2024-02-01T01:02:44.070732Z"
    }
   },
   "id": "25276537e6d08509"
  },
  {
   "cell_type": "code",
   "execution_count": 39,
   "outputs": [
    {
     "ename": "DataError",
     "evalue": "Cannot aggregate non-numeric type: object",
     "output_type": "error",
     "traceback": [
      "\u001B[0;31m---------------------------------------------------------------------------\u001B[0m",
      "\u001B[0;31mValueError\u001B[0m                                Traceback (most recent call last)",
      "File \u001B[0;32m~/PycharmProjects/nba-predictions/venv/lib/python3.11/site-packages/pandas/core/window/rolling.py:371\u001B[0m, in \u001B[0;36mBaseWindow._prep_values\u001B[0;34m(self, values)\u001B[0m\n\u001B[1;32m    370\u001B[0m     \u001B[38;5;28;01melse\u001B[39;00m:\n\u001B[0;32m--> 371\u001B[0m         values \u001B[38;5;241m=\u001B[39m \u001B[43mensure_float64\u001B[49m\u001B[43m(\u001B[49m\u001B[43mvalues\u001B[49m\u001B[43m)\u001B[49m\n\u001B[1;32m    372\u001B[0m \u001B[38;5;28;01mexcept\u001B[39;00m (\u001B[38;5;167;01mValueError\u001B[39;00m, \u001B[38;5;167;01mTypeError\u001B[39;00m) \u001B[38;5;28;01mas\u001B[39;00m err:\n",
      "File \u001B[0;32mpandas/_libs/algos_common_helper.pxi:42\u001B[0m, in \u001B[0;36mpandas._libs.algos.ensure_float64\u001B[0;34m()\u001B[0m\n",
      "\u001B[0;31mValueError\u001B[0m: could not convert string to float: 'ATL'",
      "\nThe above exception was the direct cause of the following exception:\n",
      "\u001B[0;31mTypeError\u001B[0m                                 Traceback (most recent call last)",
      "File \u001B[0;32m~/PycharmProjects/nba-predictions/venv/lib/python3.11/site-packages/pandas/core/window/rolling.py:489\u001B[0m, in \u001B[0;36mBaseWindow._apply_columnwise\u001B[0;34m(self, homogeneous_func, name, numeric_only)\u001B[0m\n\u001B[1;32m    488\u001B[0m \u001B[38;5;28;01mtry\u001B[39;00m:\n\u001B[0;32m--> 489\u001B[0m     arr \u001B[38;5;241m=\u001B[39m \u001B[38;5;28;43mself\u001B[39;49m\u001B[38;5;241;43m.\u001B[39;49m\u001B[43m_prep_values\u001B[49m\u001B[43m(\u001B[49m\u001B[43marr\u001B[49m\u001B[43m)\u001B[49m\n\u001B[1;32m    490\u001B[0m \u001B[38;5;28;01mexcept\u001B[39;00m (\u001B[38;5;167;01mTypeError\u001B[39;00m, \u001B[38;5;167;01mNotImplementedError\u001B[39;00m) \u001B[38;5;28;01mas\u001B[39;00m err:\n",
      "File \u001B[0;32m~/PycharmProjects/nba-predictions/venv/lib/python3.11/site-packages/pandas/core/window/rolling.py:373\u001B[0m, in \u001B[0;36mBaseWindow._prep_values\u001B[0;34m(self, values)\u001B[0m\n\u001B[1;32m    372\u001B[0m \u001B[38;5;28;01mexcept\u001B[39;00m (\u001B[38;5;167;01mValueError\u001B[39;00m, \u001B[38;5;167;01mTypeError\u001B[39;00m) \u001B[38;5;28;01mas\u001B[39;00m err:\n\u001B[0;32m--> 373\u001B[0m     \u001B[38;5;28;01mraise\u001B[39;00m \u001B[38;5;167;01mTypeError\u001B[39;00m(\u001B[38;5;124mf\u001B[39m\u001B[38;5;124m\"\u001B[39m\u001B[38;5;124mcannot handle this type -> \u001B[39m\u001B[38;5;132;01m{\u001B[39;00mvalues\u001B[38;5;241m.\u001B[39mdtype\u001B[38;5;132;01m}\u001B[39;00m\u001B[38;5;124m\"\u001B[39m) \u001B[38;5;28;01mfrom\u001B[39;00m \u001B[38;5;21;01merr\u001B[39;00m\n\u001B[1;32m    375\u001B[0m \u001B[38;5;66;03m# Convert inf to nan for C funcs\u001B[39;00m\n",
      "\u001B[0;31mTypeError\u001B[0m: cannot handle this type -> object",
      "\nThe above exception was the direct cause of the following exception:\n",
      "\u001B[0;31mDataError\u001B[0m                                 Traceback (most recent call last)",
      "Cell \u001B[0;32mIn[39], line 6\u001B[0m\n\u001B[1;32m      3\u001B[0m     rolling \u001B[38;5;241m=\u001B[39m team\u001B[38;5;241m.\u001B[39mrolling(\u001B[38;5;241m10\u001B[39m)\u001B[38;5;241m.\u001B[39mmean()\n\u001B[1;32m      4\u001B[0m     \u001B[38;5;28;01mreturn\u001B[39;00m rolling\n\u001B[0;32m----> 6\u001B[0m df_rolling \u001B[38;5;241m=\u001B[39m \u001B[43mdf_rolling\u001B[49m\u001B[38;5;241;43m.\u001B[39;49m\u001B[43mgroupby\u001B[49m\u001B[43m(\u001B[49m\u001B[43m[\u001B[49m\u001B[38;5;124;43m\"\u001B[39;49m\u001B[38;5;124;43mteam\u001B[39;49m\u001B[38;5;124;43m\"\u001B[39;49m\u001B[43m,\u001B[49m\u001B[43m \u001B[49m\u001B[38;5;124;43m\"\u001B[39;49m\u001B[38;5;124;43mseason\u001B[39;49m\u001B[38;5;124;43m\"\u001B[39;49m\u001B[43m]\u001B[49m\u001B[43m,\u001B[49m\u001B[43m \u001B[49m\u001B[43mgroup_keys\u001B[49m\u001B[38;5;241;43m=\u001B[39;49m\u001B[38;5;28;43;01mFalse\u001B[39;49;00m\u001B[43m)\u001B[49m\u001B[38;5;241;43m.\u001B[39;49m\u001B[43mapply\u001B[49m\u001B[43m(\u001B[49m\u001B[43mfind_team_averages\u001B[49m\u001B[43m)\u001B[49m\n",
      "File \u001B[0;32m~/PycharmProjects/nba-predictions/venv/lib/python3.11/site-packages/pandas/core/groupby/groupby.py:1824\u001B[0m, in \u001B[0;36mGroupBy.apply\u001B[0;34m(self, func, include_groups, *args, **kwargs)\u001B[0m\n\u001B[1;32m   1822\u001B[0m \u001B[38;5;28;01mwith\u001B[39;00m option_context(\u001B[38;5;124m\"\u001B[39m\u001B[38;5;124mmode.chained_assignment\u001B[39m\u001B[38;5;124m\"\u001B[39m, \u001B[38;5;28;01mNone\u001B[39;00m):\n\u001B[1;32m   1823\u001B[0m     \u001B[38;5;28;01mtry\u001B[39;00m:\n\u001B[0;32m-> 1824\u001B[0m         result \u001B[38;5;241m=\u001B[39m \u001B[38;5;28;43mself\u001B[39;49m\u001B[38;5;241;43m.\u001B[39;49m\u001B[43m_python_apply_general\u001B[49m\u001B[43m(\u001B[49m\u001B[43mf\u001B[49m\u001B[43m,\u001B[49m\u001B[43m \u001B[49m\u001B[38;5;28;43mself\u001B[39;49m\u001B[38;5;241;43m.\u001B[39;49m\u001B[43m_selected_obj\u001B[49m\u001B[43m)\u001B[49m\n\u001B[1;32m   1825\u001B[0m         \u001B[38;5;28;01mif\u001B[39;00m (\n\u001B[1;32m   1826\u001B[0m             \u001B[38;5;129;01mnot\u001B[39;00m \u001B[38;5;28misinstance\u001B[39m(\u001B[38;5;28mself\u001B[39m\u001B[38;5;241m.\u001B[39mobj, Series)\n\u001B[1;32m   1827\u001B[0m             \u001B[38;5;129;01mand\u001B[39;00m \u001B[38;5;28mself\u001B[39m\u001B[38;5;241m.\u001B[39m_selection \u001B[38;5;129;01mis\u001B[39;00m \u001B[38;5;28;01mNone\u001B[39;00m\n\u001B[1;32m   1828\u001B[0m             \u001B[38;5;129;01mand\u001B[39;00m \u001B[38;5;28mself\u001B[39m\u001B[38;5;241m.\u001B[39m_selected_obj\u001B[38;5;241m.\u001B[39mshape \u001B[38;5;241m!=\u001B[39m \u001B[38;5;28mself\u001B[39m\u001B[38;5;241m.\u001B[39m_obj_with_exclusions\u001B[38;5;241m.\u001B[39mshape\n\u001B[1;32m   1829\u001B[0m         ):\n\u001B[1;32m   1830\u001B[0m             warnings\u001B[38;5;241m.\u001B[39mwarn(\n\u001B[1;32m   1831\u001B[0m                 message\u001B[38;5;241m=\u001B[39m_apply_groupings_depr\u001B[38;5;241m.\u001B[39mformat(\n\u001B[1;32m   1832\u001B[0m                     \u001B[38;5;28mtype\u001B[39m(\u001B[38;5;28mself\u001B[39m)\u001B[38;5;241m.\u001B[39m\u001B[38;5;18m__name__\u001B[39m, \u001B[38;5;124m\"\u001B[39m\u001B[38;5;124mapply\u001B[39m\u001B[38;5;124m\"\u001B[39m\n\u001B[0;32m   (...)\u001B[0m\n\u001B[1;32m   1835\u001B[0m                 stacklevel\u001B[38;5;241m=\u001B[39mfind_stack_level(),\n\u001B[1;32m   1836\u001B[0m             )\n",
      "File \u001B[0;32m~/PycharmProjects/nba-predictions/venv/lib/python3.11/site-packages/pandas/core/groupby/groupby.py:1885\u001B[0m, in \u001B[0;36mGroupBy._python_apply_general\u001B[0;34m(self, f, data, not_indexed_same, is_transform, is_agg)\u001B[0m\n\u001B[1;32m   1850\u001B[0m \u001B[38;5;129m@final\u001B[39m\n\u001B[1;32m   1851\u001B[0m \u001B[38;5;28;01mdef\u001B[39;00m \u001B[38;5;21m_python_apply_general\u001B[39m(\n\u001B[1;32m   1852\u001B[0m     \u001B[38;5;28mself\u001B[39m,\n\u001B[0;32m   (...)\u001B[0m\n\u001B[1;32m   1857\u001B[0m     is_agg: \u001B[38;5;28mbool\u001B[39m \u001B[38;5;241m=\u001B[39m \u001B[38;5;28;01mFalse\u001B[39;00m,\n\u001B[1;32m   1858\u001B[0m ) \u001B[38;5;241m-\u001B[39m\u001B[38;5;241m>\u001B[39m NDFrameT:\n\u001B[1;32m   1859\u001B[0m \u001B[38;5;250m    \u001B[39m\u001B[38;5;124;03m\"\"\"\u001B[39;00m\n\u001B[1;32m   1860\u001B[0m \u001B[38;5;124;03m    Apply function f in python space\u001B[39;00m\n\u001B[1;32m   1861\u001B[0m \n\u001B[0;32m   (...)\u001B[0m\n\u001B[1;32m   1883\u001B[0m \u001B[38;5;124;03m        data after applying f\u001B[39;00m\n\u001B[1;32m   1884\u001B[0m \u001B[38;5;124;03m    \"\"\"\u001B[39;00m\n\u001B[0;32m-> 1885\u001B[0m     values, mutated \u001B[38;5;241m=\u001B[39m \u001B[38;5;28;43mself\u001B[39;49m\u001B[38;5;241;43m.\u001B[39;49m\u001B[43m_grouper\u001B[49m\u001B[38;5;241;43m.\u001B[39;49m\u001B[43mapply_groupwise\u001B[49m\u001B[43m(\u001B[49m\u001B[43mf\u001B[49m\u001B[43m,\u001B[49m\u001B[43m \u001B[49m\u001B[43mdata\u001B[49m\u001B[43m,\u001B[49m\u001B[43m \u001B[49m\u001B[38;5;28;43mself\u001B[39;49m\u001B[38;5;241;43m.\u001B[39;49m\u001B[43maxis\u001B[49m\u001B[43m)\u001B[49m\n\u001B[1;32m   1886\u001B[0m     \u001B[38;5;28;01mif\u001B[39;00m not_indexed_same \u001B[38;5;129;01mis\u001B[39;00m \u001B[38;5;28;01mNone\u001B[39;00m:\n\u001B[1;32m   1887\u001B[0m         not_indexed_same \u001B[38;5;241m=\u001B[39m mutated\n",
      "File \u001B[0;32m~/PycharmProjects/nba-predictions/venv/lib/python3.11/site-packages/pandas/core/groupby/ops.py:918\u001B[0m, in \u001B[0;36mBaseGrouper.apply_groupwise\u001B[0;34m(self, f, data, axis)\u001B[0m\n\u001B[1;32m    916\u001B[0m \u001B[38;5;66;03m# group might be modified\u001B[39;00m\n\u001B[1;32m    917\u001B[0m group_axes \u001B[38;5;241m=\u001B[39m group\u001B[38;5;241m.\u001B[39maxes\n\u001B[0;32m--> 918\u001B[0m res \u001B[38;5;241m=\u001B[39m \u001B[43mf\u001B[49m\u001B[43m(\u001B[49m\u001B[43mgroup\u001B[49m\u001B[43m)\u001B[49m\n\u001B[1;32m    919\u001B[0m \u001B[38;5;28;01mif\u001B[39;00m \u001B[38;5;129;01mnot\u001B[39;00m mutated \u001B[38;5;129;01mand\u001B[39;00m \u001B[38;5;129;01mnot\u001B[39;00m _is_indexed_like(res, group_axes, axis):\n\u001B[1;32m    920\u001B[0m     mutated \u001B[38;5;241m=\u001B[39m \u001B[38;5;28;01mTrue\u001B[39;00m\n",
      "Cell \u001B[0;32mIn[39], line 3\u001B[0m, in \u001B[0;36mfind_team_averages\u001B[0;34m(team)\u001B[0m\n\u001B[1;32m      1\u001B[0m \u001B[38;5;28;01mdef\u001B[39;00m \u001B[38;5;21mfind_team_averages\u001B[39m(team):\n\u001B[1;32m      2\u001B[0m     team[\u001B[38;5;124m'\u001B[39m\u001B[38;5;124mwon\u001B[39m\u001B[38;5;124m'\u001B[39m] \u001B[38;5;241m=\u001B[39m team[\u001B[38;5;124m'\u001B[39m\u001B[38;5;124mwon\u001B[39m\u001B[38;5;124m'\u001B[39m]\u001B[38;5;241m.\u001B[39mastype(\u001B[38;5;28mint\u001B[39m)\n\u001B[0;32m----> 3\u001B[0m     rolling \u001B[38;5;241m=\u001B[39m \u001B[43mteam\u001B[49m\u001B[38;5;241;43m.\u001B[39;49m\u001B[43mrolling\u001B[49m\u001B[43m(\u001B[49m\u001B[38;5;241;43m10\u001B[39;49m\u001B[43m)\u001B[49m\u001B[38;5;241;43m.\u001B[39;49m\u001B[43mmean\u001B[49m\u001B[43m(\u001B[49m\u001B[43m)\u001B[49m\n\u001B[1;32m      4\u001B[0m     \u001B[38;5;28;01mreturn\u001B[39;00m rolling\n",
      "File \u001B[0;32m~/PycharmProjects/nba-predictions/venv/lib/python3.11/site-packages/pandas/core/window/rolling.py:2259\u001B[0m, in \u001B[0;36mRolling.mean\u001B[0;34m(self, numeric_only, engine, engine_kwargs)\u001B[0m\n\u001B[1;32m   2216\u001B[0m \u001B[38;5;129m@doc\u001B[39m(\n\u001B[1;32m   2217\u001B[0m     template_header,\n\u001B[1;32m   2218\u001B[0m     create_section_header(\u001B[38;5;124m\"\u001B[39m\u001B[38;5;124mParameters\u001B[39m\u001B[38;5;124m\"\u001B[39m),\n\u001B[0;32m   (...)\u001B[0m\n\u001B[1;32m   2257\u001B[0m     engine_kwargs: \u001B[38;5;28mdict\u001B[39m[\u001B[38;5;28mstr\u001B[39m, \u001B[38;5;28mbool\u001B[39m] \u001B[38;5;241m|\u001B[39m \u001B[38;5;28;01mNone\u001B[39;00m \u001B[38;5;241m=\u001B[39m \u001B[38;5;28;01mNone\u001B[39;00m,\n\u001B[1;32m   2258\u001B[0m ):\n\u001B[0;32m-> 2259\u001B[0m     \u001B[38;5;28;01mreturn\u001B[39;00m \u001B[38;5;28;43msuper\u001B[39;49m\u001B[43m(\u001B[49m\u001B[43m)\u001B[49m\u001B[38;5;241;43m.\u001B[39;49m\u001B[43mmean\u001B[49m\u001B[43m(\u001B[49m\n\u001B[1;32m   2260\u001B[0m \u001B[43m        \u001B[49m\u001B[43mnumeric_only\u001B[49m\u001B[38;5;241;43m=\u001B[39;49m\u001B[43mnumeric_only\u001B[49m\u001B[43m,\u001B[49m\n\u001B[1;32m   2261\u001B[0m \u001B[43m        \u001B[49m\u001B[43mengine\u001B[49m\u001B[38;5;241;43m=\u001B[39;49m\u001B[43mengine\u001B[49m\u001B[43m,\u001B[49m\n\u001B[1;32m   2262\u001B[0m \u001B[43m        \u001B[49m\u001B[43mengine_kwargs\u001B[49m\u001B[38;5;241;43m=\u001B[39;49m\u001B[43mengine_kwargs\u001B[49m\u001B[43m,\u001B[49m\n\u001B[1;32m   2263\u001B[0m \u001B[43m    \u001B[49m\u001B[43m)\u001B[49m\n",
      "File \u001B[0;32m~/PycharmProjects/nba-predictions/venv/lib/python3.11/site-packages/pandas/core/window/rolling.py:1625\u001B[0m, in \u001B[0;36mRollingAndExpandingMixin.mean\u001B[0;34m(self, numeric_only, engine, engine_kwargs)\u001B[0m\n\u001B[1;32m   1623\u001B[0m         \u001B[38;5;28;01mreturn\u001B[39;00m \u001B[38;5;28mself\u001B[39m\u001B[38;5;241m.\u001B[39m_numba_apply(sliding_mean, engine_kwargs)\n\u001B[1;32m   1624\u001B[0m window_func \u001B[38;5;241m=\u001B[39m window_aggregations\u001B[38;5;241m.\u001B[39mroll_mean\n\u001B[0;32m-> 1625\u001B[0m \u001B[38;5;28;01mreturn\u001B[39;00m \u001B[38;5;28;43mself\u001B[39;49m\u001B[38;5;241;43m.\u001B[39;49m\u001B[43m_apply\u001B[49m\u001B[43m(\u001B[49m\u001B[43mwindow_func\u001B[49m\u001B[43m,\u001B[49m\u001B[43m \u001B[49m\u001B[43mname\u001B[49m\u001B[38;5;241;43m=\u001B[39;49m\u001B[38;5;124;43m\"\u001B[39;49m\u001B[38;5;124;43mmean\u001B[39;49m\u001B[38;5;124;43m\"\u001B[39;49m\u001B[43m,\u001B[49m\u001B[43m \u001B[49m\u001B[43mnumeric_only\u001B[49m\u001B[38;5;241;43m=\u001B[39;49m\u001B[43mnumeric_only\u001B[49m\u001B[43m)\u001B[49m\n",
      "File \u001B[0;32m~/PycharmProjects/nba-predictions/venv/lib/python3.11/site-packages/pandas/core/window/rolling.py:619\u001B[0m, in \u001B[0;36mBaseWindow._apply\u001B[0;34m(self, func, name, numeric_only, numba_args, **kwargs)\u001B[0m\n\u001B[1;32m    616\u001B[0m     \u001B[38;5;28;01mreturn\u001B[39;00m result\n\u001B[1;32m    618\u001B[0m \u001B[38;5;28;01mif\u001B[39;00m \u001B[38;5;28mself\u001B[39m\u001B[38;5;241m.\u001B[39mmethod \u001B[38;5;241m==\u001B[39m \u001B[38;5;124m\"\u001B[39m\u001B[38;5;124msingle\u001B[39m\u001B[38;5;124m\"\u001B[39m:\n\u001B[0;32m--> 619\u001B[0m     \u001B[38;5;28;01mreturn\u001B[39;00m \u001B[38;5;28;43mself\u001B[39;49m\u001B[38;5;241;43m.\u001B[39;49m\u001B[43m_apply_columnwise\u001B[49m\u001B[43m(\u001B[49m\u001B[43mhomogeneous_func\u001B[49m\u001B[43m,\u001B[49m\u001B[43m \u001B[49m\u001B[43mname\u001B[49m\u001B[43m,\u001B[49m\u001B[43m \u001B[49m\u001B[43mnumeric_only\u001B[49m\u001B[43m)\u001B[49m\n\u001B[1;32m    620\u001B[0m \u001B[38;5;28;01melse\u001B[39;00m:\n\u001B[1;32m    621\u001B[0m     \u001B[38;5;28;01mreturn\u001B[39;00m \u001B[38;5;28mself\u001B[39m\u001B[38;5;241m.\u001B[39m_apply_tablewise(homogeneous_func, name, numeric_only)\n",
      "File \u001B[0;32m~/PycharmProjects/nba-predictions/venv/lib/python3.11/site-packages/pandas/core/window/rolling.py:491\u001B[0m, in \u001B[0;36mBaseWindow._apply_columnwise\u001B[0;34m(self, homogeneous_func, name, numeric_only)\u001B[0m\n\u001B[1;32m    489\u001B[0m     arr \u001B[38;5;241m=\u001B[39m \u001B[38;5;28mself\u001B[39m\u001B[38;5;241m.\u001B[39m_prep_values(arr)\n\u001B[1;32m    490\u001B[0m \u001B[38;5;28;01mexcept\u001B[39;00m (\u001B[38;5;167;01mTypeError\u001B[39;00m, \u001B[38;5;167;01mNotImplementedError\u001B[39;00m) \u001B[38;5;28;01mas\u001B[39;00m err:\n\u001B[0;32m--> 491\u001B[0m     \u001B[38;5;28;01mraise\u001B[39;00m DataError(\n\u001B[1;32m    492\u001B[0m         \u001B[38;5;124mf\u001B[39m\u001B[38;5;124m\"\u001B[39m\u001B[38;5;124mCannot aggregate non-numeric type: \u001B[39m\u001B[38;5;132;01m{\u001B[39;00marr\u001B[38;5;241m.\u001B[39mdtype\u001B[38;5;132;01m}\u001B[39;00m\u001B[38;5;124m\"\u001B[39m\n\u001B[1;32m    493\u001B[0m     ) \u001B[38;5;28;01mfrom\u001B[39;00m \u001B[38;5;21;01merr\u001B[39;00m\n\u001B[1;32m    494\u001B[0m res \u001B[38;5;241m=\u001B[39m homogeneous_func(arr)\n\u001B[1;32m    495\u001B[0m res_values\u001B[38;5;241m.\u001B[39mappend(res)\n",
      "\u001B[0;31mDataError\u001B[0m: Cannot aggregate non-numeric type: object"
     ]
    }
   ],
   "source": [
    "def find_team_averages(team):\n",
    "    team['won'] = team['won'].astype(int)\n",
    "    rolling = team.rolling(10).mean()\n",
    "    return rolling\n",
    "\n",
    "df_rolling = df_rolling.groupby([\"team\", \"season\"], group_keys=False).apply(find_team_averages)"
   ],
   "metadata": {
    "collapsed": false,
    "ExecuteTime": {
     "end_time": "2024-02-01T01:05:03.442021Z",
     "start_time": "2024-02-01T01:05:03.375654Z"
    }
   },
   "id": "4946f770ccd0a0ea"
  },
  {
   "cell_type": "code",
   "execution_count": null,
   "outputs": [],
   "source": [
    "df_rolling"
   ],
   "metadata": {
    "collapsed": false,
    "ExecuteTime": {
     "end_time": "2024-02-01T01:02:44.799009Z",
     "start_time": "2024-02-01T01:02:44.794547Z"
    }
   },
   "id": "243e7ed9b3a7b434"
  },
  {
   "cell_type": "code",
   "execution_count": null,
   "outputs": [],
   "source": [],
   "metadata": {
    "collapsed": false,
    "ExecuteTime": {
     "start_time": "2024-02-01T01:02:44.796112Z"
    }
   },
   "id": "a62f24c923147fce"
  }
 ],
 "metadata": {
  "kernelspec": {
   "display_name": "Python 3",
   "language": "python",
   "name": "python3"
  },
  "language_info": {
   "codemirror_mode": {
    "name": "ipython",
    "version": 2
   },
   "file_extension": ".py",
   "mimetype": "text/x-python",
   "name": "python",
   "nbconvert_exporter": "python",
   "pygments_lexer": "ipython2",
   "version": "2.7.6"
  }
 },
 "nbformat": 4,
 "nbformat_minor": 5
}
